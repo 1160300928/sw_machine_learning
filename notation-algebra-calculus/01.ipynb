{
 "cells": [
  {
   "cell_type": "markdown",
   "metadata": {},
   "source": [
    "在机器学习的算法中，经常会出现很多的符号和计算公式，那么对其有一个基本的认识是非常重要的。"
   ]
  },
  {
   "cell_type": "markdown",
   "metadata": {},
   "source": [
    "## 数学符号"
   ]
  },
  {
   "cell_type": "markdown",
   "metadata": {},
   "source": [
    "### 集合和区间"
   ]
  },
  {
   "cell_type": "markdown",
   "metadata": {},
   "source": [
    "$\\mathbb{Z}$: 整数集：{...-2, -1, 0, 1, 2...}  \n",
    "$\\mathbb{N}$: 自然数集：{0，1， 2，3....}  \n",
    "$\\mathbb{N}^{+}$: 不包括零的自然数集:{1, 2,3...}  \n",
    "$\\mathbb{R}$:  实数集  \n",
    "$\\in$: 集合内元素符号.比如：`$\\in$A` 表示x是集合A中的一个元素  \n",
    "$\\notin$: 与上面相反，不是集合内的元素  \n",
    "$\\varnothing$: 空集或者null集  \n",
    "A $\\cup$ B:  A， B集合的并集  \n",
    "A $\\cap$ B:  A， B集合的交集  \n",
    "A $\\subseteq$: A是B的子集  \n",
    "A$\\bigtriangleup$B: 两个集合的对称差：只属于其中一个集合，而不属于另一个集合的元素组成的集合。例如：集合{1，2，3} 和集合{3，4}的对称差是{1, 2, 4}。  \n",
    "$\\left | A \\right |$: 集合A的基数(元素的个数)  \n",
    "$\\left(a，b  \\right)$: 从a到b的开区间，不包括a， b.  \n",
    "$\\left [ a, b \\right ]$: 从a到b的闭区间， 包括a,b.   \n"
   ]
  },
  {
   "cell_type": "code",
   "execution_count": null,
   "metadata": {},
   "outputs": [],
   "source": []
  },
  {
   "cell_type": "markdown",
   "metadata": {},
   "source": [
    "### 序列"
   ]
  },
  {
   "cell_type": "markdown",
   "metadata": {},
   "source": [
    "$\\sum_{i=1}^{n}x_{i}$: 下标变量$x_{i}$的和，等于 $x_{1} + x_{2} + ... + x_{n}$   \n",
    "$\\prod_{i=1}^{n}x_{i}$: 下标变量$x_{i}$的积，等于 $x_{1} * x_{2} * ... * x_{n}$ "
   ]
  },
  {
   "cell_type": "markdown",
   "metadata": {},
   "source": [
    "## 函数"
   ]
  },
  {
   "cell_type": "markdown",
   "metadata": {},
   "source": [
    "$f:A \\rightarrow  B$: 表示函数f， 定义域A和值域B。  \n",
    "$\\left(g \\circ f \\right)\\left(x \\right)$: 两个函数g和f和组合形式： $g[f(x)]$  \n",
    "$f^{-1}(x)$: 函数f的逆， 如果$f^{-1}$表示y， 那么$f$"
   ]
  },
  {
   "cell_type": "code",
   "execution_count": null,
   "metadata": {},
   "outputs": [],
   "source": []
  }
 ],
 "metadata": {
  "kernelspec": {
   "display_name": "Python 3",
   "language": "python",
   "name": "python3"
  },
  "language_info": {
   "codemirror_mode": {
    "name": "ipython",
    "version": 3
   },
   "file_extension": ".py",
   "mimetype": "text/x-python",
   "name": "python",
   "nbconvert_exporter": "python",
   "pygments_lexer": "ipython3",
   "version": "3.6.4"
  }
 },
 "nbformat": 4,
 "nbformat_minor": 2
}
