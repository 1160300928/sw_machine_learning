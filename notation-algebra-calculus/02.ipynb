{
 "cells": [
  {
   "cell_type": "markdown",
   "metadata": {},
   "source": [
    "# 代数"
   ]
  },
  {
   "cell_type": "markdown",
   "metadata": {},
   "source": [
    "## 指数"
   ]
  },
  {
   "cell_type": "markdown",
   "metadata": {},
   "source": [
    "基本属性：   \n",
    "$x^0 = 1$  \n",
    "$x^1 = x$  \n",
    "$x^n=x \\cdot x  \\cdot  ... \\cdot x$  \n",
    "$x^{-n} = \\frac{1}{x^n}$  \n",
    "$x^{1/2} = \\sqrt{x}$  \n",
    "$x^{m/n} = \\sqrt[n]{x^m}$"
   ]
  },
  {
   "cell_type": "markdown",
   "metadata": {},
   "source": [
    "指数定律：  \n",
    "$x^m \\cdot x^n = x^{m + n}$  \n",
    "$x^m / x^n = x^{m-n}$  \n",
    "$(x^m)^n = x^{mn}$  \n",
    "$(xy)^n=x^n \\cdot x^m$  \n",
    "$(\\frac{x}{y})^n = (\\frac{x^n}{y^n})$  \n",
    "$(\\frac{x}{y})^{-n} = (\\frac{y}{x})^{n}$  \n"
   ]
  },
  {
   "cell_type": "markdown",
   "metadata": {},
   "source": [
    "roots：   \n",
    "$(\\sqrt{x})^2 = \\sqrt{(x^2)} = x$  (所有正数)    \n",
    "$\\sqrt{x \\cdot y} = \\sqrt{x} \\cdot \\sqrt{y}$   \n",
    "$\\sqrt{\\frac{x}{y}}=\\frac{\\sqrt{x}}{\\sqrt{y}}$  \n",
    "$\\sqrt{x + y} \\neq \\sqrt{x} + \\sqrt{y}$  \n",
    "$\\sqrt{x^2 + y^2} \\neq x + y$"
   ]
  },
  {
   "cell_type": "code",
   "execution_count": null,
   "metadata": {},
   "outputs": [],
   "source": []
  },
  {
   "cell_type": "markdown",
   "metadata": {},
   "source": [
    "## 对数的性质"
   ]
  },
  {
   "cell_type": "markdown",
   "metadata": {},
   "source": [
    "$\\log_2(2^x) = x$, $log_b(a) = c  \\Leftrightarrow  b^c = a$（b为底，c为指数）"
   ]
  },
  {
   "cell_type": "markdown",
   "metadata": {},
   "source": [
    "基本属性：   \n",
    "$log_b1 = 0$  \n",
    "$log_bb = 1$  \n",
    "$log_bb^a = a$   \n",
    "$b^{log_ba} = a$  \n",
    "$log_b{m \\cdot n} = log_bm + log_bn$  \n",
    "$log_b{(\\frac{m}{n})} = log_bm - log_bn$  \n",
    "$log_b(m^p) = plog_bm$  \n",
    "$log_bm = \\frac{log_am}{log_ab}$"
   ]
  },
  {
   "cell_type": "code",
   "execution_count": null,
   "metadata": {},
   "outputs": [],
   "source": []
  },
  {
   "cell_type": "markdown",
   "metadata": {},
   "source": [
    "# 微积分"
   ]
  },
  {
   "cell_type": "markdown",
   "metadata": {},
   "source": [
    "## 常用函数的导数"
   ]
  },
  {
   "cell_type": "markdown",
   "metadata": {},
   "source": [
    "  \n",
    "name | age\n",
    "---- | ---\n",
    "a(常数)| 0\n",
    "x | 1\n",
    "$ax$| $a$\n",
    "$x^2$ | $2x$\n",
    "$x^a$|$ax^{a-1}$  \n",
    "$log(x)$|$1/x$\n",
    "$log_ax$|$1/(xlog_a)$\n",
    "$sin(x)$|$cos(x)$\n",
    "$cos(x)$|$-sin(x)$\n",
    "$tan(x)$|$sec^2(x)$"
   ]
  },
  {
   "cell_type": "code",
   "execution_count": null,
   "metadata": {},
   "outputs": [],
   "source": []
  }
 ],
 "metadata": {
  "kernelspec": {
   "display_name": "Python 3",
   "language": "python",
   "name": "python3"
  },
  "language_info": {
   "codemirror_mode": {
    "name": "ipython",
    "version": 3
   },
   "file_extension": ".py",
   "mimetype": "text/x-python",
   "name": "python",
   "nbconvert_exporter": "python",
   "pygments_lexer": "ipython3",
   "version": "3.6.4"
  }
 },
 "nbformat": 4,
 "nbformat_minor": 2
}
