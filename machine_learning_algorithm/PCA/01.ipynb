{
 "cells": [
  {
   "cell_type": "markdown",
   "metadata": {},
   "source": [
    "### PCA"
   ]
  },
  {
   "cell_type": "markdown",
   "metadata": {},
   "source": [
    "计算不同特征的重要性，达到降维的目的"
   ]
  },
  {
   "cell_type": "code",
   "execution_count": 1,
   "metadata": {},
   "outputs": [],
   "source": [
    "import numpy as np\n",
    "import pandas as pd\n",
    "np.random.seed(42)\n",
    "%matplotlib inline"
   ]
  },
  {
   "cell_type": "code",
   "execution_count": 2,
   "metadata": {},
   "outputs": [],
   "source": [
    "mu_vecl = np.array([0, 0, 0])\n",
    "cov_mat1 = np.array([[1, 0, 0], [0, 1, 0], [0, 0, 1]])\n",
    "class1_sample = np.random.multivariate_normal(mu_vecl, cov_mat1, 20).T"
   ]
  },
  {
   "cell_type": "code",
   "execution_count": 3,
   "metadata": {},
   "outputs": [],
   "source": [
    "mu_vec2 = np.array([1, 1, 1])\n",
    "cov_mat2 = np.array([[1, 0, 0], [0, 1, 0], [0, 0, 1]])\n",
    "class2_sample = np.random.multivariate_normal(mu_vec2, cov_mat2, 20).T"
   ]
  },
  {
   "cell_type": "code",
   "execution_count": 5,
   "metadata": {},
   "outputs": [],
   "source": [
    "# 1. 连接两种类别数据\n",
    "all_samples = np.concatenate((class1_sample, class2_sample),axis=1)"
   ]
  },
  {
   "cell_type": "code",
   "execution_count": 23,
   "metadata": {},
   "outputs": [],
   "source": [
    "# 计算每个维度的均值\n",
    "mean_vertor = np.mean(all_samples, axis = 1).reshape(-1, 1)"
   ]
  },
  {
   "cell_type": "code",
   "execution_count": 29,
   "metadata": {},
   "outputs": [
    {
     "name": "stdout",
     "output_type": "stream",
     "text": [
      "Scatter matrix:\n",
      " [[22.16567148 12.53976465  2.79387084]\n",
      " [12.53976465 60.31432017 16.34412085]\n",
      " [ 2.79387084 16.34412085 58.05790884]]\n"
     ]
    }
   ],
   "source": [
    "# 计算scatter矩阵\n",
    "scatter_matrix = np.zeros((3, 3))\n",
    "m, n = all_samples.shape\n",
    "for i in range(n):\n",
    "    scatter_matrix += (all_samples[:, i].reshape(3, 1) - \n",
    "                       mean_vertor).dot((all_samples[:, i].reshape(3, 1) - mean_vertor).T)\n",
    "print(\"Scatter matrix:\\n\", scatter_matrix)"
   ]
  },
  {
   "cell_type": "code",
   "execution_count": 37,
   "metadata": {},
   "outputs": [],
   "source": [
    "# 计算协方差矩阵(或者 scatter matrix)\n",
    "# 两者很相似, 特征空间是相同的，只是缩放比例不同。 (缩小39（N-1）倍)\n",
    "con_mat = np.cov(all_samples)"
   ]
  },
  {
   "cell_type": "code",
   "execution_count": null,
   "metadata": {},
   "outputs": [],
   "source": []
  },
  {
   "cell_type": "code",
   "execution_count": 39,
   "metadata": {},
   "outputs": [],
   "source": [
    "# 计算特征向量和相应的特征值\n",
    "eig_val_sc, eig_vec_sc = np.linalg.eig(scatter_matrix)"
   ]
  },
  {
   "cell_type": "code",
   "execution_count": 42,
   "metadata": {},
   "outputs": [],
   "source": [
    "eig_val_cov, eig_vec_cov = np.linalg.eig(con_mat)"
   ]
  },
  {
   "cell_type": "code",
   "execution_count": 46,
   "metadata": {},
   "outputs": [],
   "source": [
    "for i in range(len(eig_val_sc)):\n",
    "    eigvec_sc = eig_vec_sc[:, i].reshape(1, 3).T\n",
    "    eigvec_cov = eig_vec_cov[:, i].reshape(1, 3).T"
   ]
  },
  {
   "cell_type": "code",
   "execution_count": null,
   "metadata": {},
   "outputs": [],
   "source": []
  },
  {
   "cell_type": "code",
   "execution_count": 54,
   "metadata": {},
   "outputs": [],
   "source": [
    "# 对特征向量进行排序\n",
    "eig_pairs = [(np.abs(eig_val_sc[i]), eig_vec_sc[:, i]) for  i in range(len(eig_vec_sc))]"
   ]
  },
  {
   "cell_type": "code",
   "execution_count": 57,
   "metadata": {},
   "outputs": [],
   "source": [
    "eig_pairs.sort(key = lambda x: x[0], reverse=True)"
   ]
  },
  {
   "cell_type": "code",
   "execution_count": 61,
   "metadata": {},
   "outputs": [
    {
     "name": "stdout",
     "output_type": "stream",
     "text": [
      "77.82139338426461\n",
      "44.42288106224649\n",
      "18.293626039055123\n"
     ]
    }
   ],
   "source": [
    "for i in eig_pairs:\n",
    "    print(i[0])"
   ]
  },
  {
   "cell_type": "code",
   "execution_count": 64,
   "metadata": {},
   "outputs": [],
   "source": [
    "# 选择最大的k个特征向量\n",
    "matrix_w = np.hstack((eig_pairs[0][1].reshape(3, 1), eig_pairs[1][1].reshape(3, 1)))"
   ]
  },
  {
   "cell_type": "code",
   "execution_count": 66,
   "metadata": {},
   "outputs": [
    {
     "data": {
      "text/plain": [
       "array([[-0.19917457, -0.2404384 ],\n",
       "       [-0.74116832, -0.59724276],\n",
       "       [-0.64109204,  0.76517348]])"
      ]
     },
     "execution_count": 66,
     "metadata": {},
     "output_type": "execute_result"
    }
   ],
   "source": [
    "matrix_w"
   ]
  },
  {
   "cell_type": "code",
   "execution_count": 69,
   "metadata": {},
   "outputs": [],
   "source": [
    "# 将样本变换到新的子空间\n",
    "transformed = matrix_w.T.dot(all_samples)"
   ]
  },
  {
   "cell_type": "code",
   "execution_count": 74,
   "metadata": {},
   "outputs": [
    {
     "data": {
      "text/plain": [
       "(2, 40)"
      ]
     },
     "execution_count": 74,
     "metadata": {},
     "output_type": "execute_result"
    }
   ],
   "source": [
    "transformed.shape"
   ]
  },
  {
   "cell_type": "code",
   "execution_count": 81,
   "metadata": {},
   "outputs": [
    {
     "data": {
      "text/plain": [
       "array([[-0.41168368,  0.45874229],\n",
       "       [ 0.02030158, -0.40550384],\n",
       "       [-0.58236106, -1.19727759],\n",
       "       [ 0.53398199, -0.21004346],\n",
       "       [ 2.47570107, -0.23534563],\n",
       "       [ 0.66121026,  0.98055529],\n",
       "       [ 0.28799431,  2.18328759],\n",
       "       [ 0.90831386, -1.07622497],\n",
       "       [ 0.76410771, -0.81606697],\n",
       "       [ 0.55734742,  0.04519856],\n",
       "       [-1.24435229, -0.97191408],\n",
       "       [ 0.38369804, -1.17110186],\n",
       "       [ 2.26233461,  0.10388722],\n",
       "       [-0.69640063, -0.35725036],\n",
       "       [ 1.1940714 , -0.92368753],\n",
       "       [-0.19292712,  1.25707326],\n",
       "       [ 1.03050183,  1.2183244 ],\n",
       "       [ 0.18627094,  0.96491381],\n",
       "       [-0.35756854, -1.44623918],\n",
       "       [-0.80934894,  0.6229631 ],\n",
       "       [-0.63912851, -0.6929505 ],\n",
       "       [-2.81487408,  0.76759007],\n",
       "       [-2.54272113, -0.37783214],\n",
       "       [-2.70682146,  1.04362777],\n",
       "       [-1.05446588, -3.00292531],\n",
       "       [-1.61796232, -0.55090532],\n",
       "       [ 0.01424167,  0.92440356],\n",
       "       [-2.41567202, -1.4375994 ],\n",
       "       [-1.63537416,  1.12199742],\n",
       "       [-1.58332399,  0.55758201],\n",
       "       [-1.86861865, -1.21155747],\n",
       "       [-0.28730704, -0.87938419],\n",
       "       [-1.83717866, -0.29570705],\n",
       "       [-0.21601082,  0.50734936],\n",
       "       [-0.81515344,  0.3656368 ],\n",
       "       [-3.17181328, -1.16258558],\n",
       "       [-0.34744652, -1.55816325],\n",
       "       [-3.19995969,  1.78270277],\n",
       "       [-1.74436542, -0.23291421],\n",
       "       [-2.67774634,  0.10130396]])"
      ]
     },
     "execution_count": 81,
     "metadata": {},
     "output_type": "execute_result"
    }
   ],
   "source": [
    "transformed.T"
   ]
  },
  {
   "cell_type": "code",
   "execution_count": null,
   "metadata": {},
   "outputs": [],
   "source": []
  },
  {
   "cell_type": "code",
   "execution_count": 79,
   "metadata": {},
   "outputs": [],
   "source": [
    "# 使用sklearn实现\n",
    "from sklearn.decomposition import PCA\n",
    "pca = PCA(n_components=2)\n",
    "transformed_pca = pca.fit_transform(all_samples.T)"
   ]
  },
  {
   "cell_type": "code",
   "execution_count": 83,
   "metadata": {},
   "outputs": [
    {
     "data": {
      "text/plain": [
       "array([[ 0.24307905, -0.58889331],\n",
       "       [ 0.67506431,  0.27535282],\n",
       "       [ 0.07240167,  1.06712657],\n",
       "       [ 1.18874471,  0.07989245],\n",
       "       [ 3.1304638 ,  0.10519461],\n",
       "       [ 1.31597298, -1.11070631],\n",
       "       [ 0.94275704, -2.31343861],\n",
       "       [ 1.56307658,  0.94607396],\n",
       "       [ 1.41887043,  0.68591595],\n",
       "       [ 1.21211014, -0.17534957],\n",
       "       [-0.58958957,  0.84176307],\n",
       "       [ 1.03846076,  1.04095085],\n",
       "       [ 2.91709733, -0.23403824],\n",
       "       [-0.04163791,  0.22709934],\n",
       "       [ 1.84883412,  0.79353652],\n",
       "       [ 0.46183561, -1.38722427],\n",
       "       [ 1.68526456, -1.34847542],\n",
       "       [ 0.84103367, -1.09506482],\n",
       "       [ 0.29719419,  1.31608816],\n",
       "       [-0.15458621, -0.75311412],\n",
       "       [ 0.01563421,  0.56279948],\n",
       "       [-2.16011136, -0.89774108],\n",
       "       [-1.8879584 ,  0.24768112],\n",
       "       [-2.05205874, -1.17377879],\n",
       "       [-0.39970315,  2.87277429],\n",
       "       [-0.96319959,  0.42075431],\n",
       "       [ 0.66900439, -1.05455457],\n",
       "       [-1.7609093 ,  1.30744838],\n",
       "       [-0.98061143, -1.25214844],\n",
       "       [-0.92856126, -0.68773303],\n",
       "       [-1.21385593,  1.08140645],\n",
       "       [ 0.36745568,  0.74923317],\n",
       "       [-1.18241594,  0.16555603],\n",
       "       [ 0.43875191, -0.63750038],\n",
       "       [-0.16039071, -0.49578781],\n",
       "       [-2.51705056,  1.03243456],\n",
       "       [ 0.30731621,  1.42801223],\n",
       "       [-2.54519696, -1.91285379],\n",
       "       [-1.0896027 ,  0.10276319],\n",
       "       [-2.02298362, -0.23145498]])"
      ]
     },
     "execution_count": 83,
     "metadata": {},
     "output_type": "execute_result"
    }
   ],
   "source": [
    "transformed_pca"
   ]
  },
  {
   "cell_type": "code",
   "execution_count": null,
   "metadata": {},
   "outputs": [],
   "source": []
  }
 ],
 "metadata": {
  "kernelspec": {
   "display_name": "Python 3",
   "language": "python",
   "name": "python3"
  },
  "language_info": {
   "codemirror_mode": {
    "name": "ipython",
    "version": 3
   },
   "file_extension": ".py",
   "mimetype": "text/x-python",
   "name": "python",
   "nbconvert_exporter": "python",
   "pygments_lexer": "ipython3",
   "version": "3.6.4"
  }
 },
 "nbformat": 4,
 "nbformat_minor": 2
}
